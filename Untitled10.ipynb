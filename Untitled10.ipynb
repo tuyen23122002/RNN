{
  "nbformat": 4,
  "nbformat_minor": 0,
  "metadata": {
    "colab": {
      "provenance": [],
      "mount_file_id": "17dzUJn0sZ31oJ1eD6hRc4tLye0FRO-kM",
      "authorship_tag": "ABX9TyM9p//KriClRLJfxLTNnvau",
      "include_colab_link": true
    },
    "kernelspec": {
      "name": "python3",
      "display_name": "Python 3"
    },
    "language_info": {
      "name": "python"
    }
  },
  "cells": [
    {
      "cell_type": "markdown",
      "metadata": {
        "id": "view-in-github",
        "colab_type": "text"
      },
      "source": [
        "<a href=\"https://colab.research.google.com/github/tuyen23122002/RNN/blob/main/Untitled10.ipynb\" target=\"_parent\"><img src=\"https://colab.research.google.com/assets/colab-badge.svg\" alt=\"Open In Colab\"/></a>"
      ]
    },
    {
      "cell_type": "code",
      "execution_count": null,
      "metadata": {
        "colab": {
          "base_uri": "https://localhost:8080/"
        },
        "id": "L84T_LHSU1WO",
        "outputId": "3b097d7a-66c6-48d9-d3be-b24bf4183811"
      },
      "outputs": [
        {
          "output_type": "stream",
          "name": "stdout",
          "text": [
            "/usr/local/lib/python3.10/dist-packages/gdown/cli.py:138: FutureWarning: Option `--id` was deprecated in version 4.3.1 and will be removed in 5.0. You don't need to pass it anymore to use a file ID.\n",
            "  warnings.warn(\n",
            "Error:\n",
            "\n",
            "\t'NoneType' object has no attribute 'groups'\n",
            "\n",
            "To report issues, please visit https://github.com/wkentaro/gdown/issues.\n"
          ]
        }
      ],
      "source": [
        "!gdown --id 1o09HEkDBBEjsW3gN76vDYfCAKiCqpcpg"
      ]
    },
    {
      "cell_type": "code",
      "source": [
        "!unzip './financial_sentiment.zip'"
      ],
      "metadata": {
        "colab": {
          "base_uri": "https://localhost:8080/"
        },
        "id": "jZV6jmSkWPau",
        "outputId": "134a78e8-ceb2-45e9-d97c-5d33b0e1e0f6"
      },
      "execution_count": null,
      "outputs": [
        {
          "output_type": "stream",
          "name": "stdout",
          "text": [
            "unzip:  cannot find or open ./financial_sentiment.zip, ./financial_sentiment.zip.zip or ./financial_sentiment.zip.ZIP.\n"
          ]
        }
      ]
    },
    {
      "cell_type": "code",
      "source": [
        "!pip install unidecode"
      ],
      "metadata": {
        "colab": {
          "base_uri": "https://localhost:8080/"
        },
        "id": "Tm5Pit1HWQj0",
        "outputId": "aea1acb6-b91e-4dec-f682-737610f32ee9"
      },
      "execution_count": null,
      "outputs": [
        {
          "output_type": "stream",
          "name": "stdout",
          "text": [
            "Collecting unidecode\n",
            "  Downloading Unidecode-1.3.8-py3-none-any.whl (235 kB)\n",
            "\u001b[?25l     \u001b[90m━━━━━━━━━━━━━━━━━━━━━━━━━━━━━━━━━━━━━━━━\u001b[0m \u001b[32m0.0/235.5 kB\u001b[0m \u001b[31m?\u001b[0m eta \u001b[36m-:--:--\u001b[0m\r\u001b[2K     \u001b[91m━━━━━━━━━━━━━━━━━━━━\u001b[0m\u001b[91m╸\u001b[0m\u001b[90m━━━━━━━━━━━━━━━━━━━\u001b[0m \u001b[32m122.9/235.5 kB\u001b[0m \u001b[31m3.5 MB/s\u001b[0m eta \u001b[36m0:00:01\u001b[0m\r\u001b[2K     \u001b[90m━━━━━━━━━━━━━━━━━━━━━━━━━━━━━━━━━━━━━━━━\u001b[0m \u001b[32m235.5/235.5 kB\u001b[0m \u001b[31m4.4 MB/s\u001b[0m eta \u001b[36m0:00:00\u001b[0m\n",
            "\u001b[?25hInstalling collected packages: unidecode\n",
            "Successfully installed unidecode-1.3.8\n"
          ]
        }
      ]
    },
    {
      "cell_type": "code",
      "source": [
        "import os\n",
        "import numpy as np\n",
        "import pandas as pd\n",
        "import matplotlib.pyplot as plt\n",
        "import tensorflow as tf\n",
        "import re\n",
        "import nltk\n",
        "import unidecode\n",
        "\n",
        "nltk.download('stopwords')\n",
        "from nltk.corpus import stopwords\n",
        "from nltk.stem.porter import PorterStemmer\n",
        "from sklearn.model_selection import train_test_split\n",
        "\n",
        "RANDOM_SEED = 1\n",
        "tf.random.set_seed(RANDOM_SEED)"
      ],
      "metadata": {
        "colab": {
          "base_uri": "https://localhost:8080/"
        },
        "id": "7hRcn_PCWTUF",
        "outputId": "638e40cb-c831-400c-8a1d-9c045f382c02"
      },
      "execution_count": null,
      "outputs": [
        {
          "output_type": "stream",
          "name": "stderr",
          "text": [
            "[nltk_data] Downloading package stopwords to /root/nltk_data...\n",
            "[nltk_data]   Unzipping corpora/stopwords.zip.\n"
          ]
        }
      ]
    },
    {
      "cell_type": "code",
      "source": [
        "english_stop_words = stopwords.words('english') # Lấy danh sách stopwords từ thư viện ntlk\n",
        "stemmer = PorterStemmer() # Khai báo stemmer object (dùng để stemming trong hàm normalize text)\n",
        "\n",
        "# Xây dựng hàm text normalization\n",
        "def text_normalize(text):\n",
        "    text = text.lower() # Chuyển chữ viết thường\n",
        "    text = unidecode.unidecode(text) # Mã hóa về ASCII\n",
        "    text = text.strip() # Xóa kí tự đặc biệt ở đầu và cuối string\n",
        "    text = re.sub(r'[^\\w\\s]', '', text) # Loại bỏ dấu câu\n",
        "    text = ' '.join([word for word in text.split(' ') if word not in english_stop_words]) # Xóa stopwords\n",
        "    text = ' '.join([stemmer.stem(word) for word in text.split(' ')]) # Stemming\n",
        "\n",
        "    return text"
      ],
      "metadata": {
        "id": "WmGDIlR3ZFvS"
      },
      "execution_count": null,
      "outputs": []
    },
    {
      "cell_type": "code",
      "source": [
        "path = \"/content/drive/MyDrive/data/all-data.csv\"\n",
        "headers = [\"sentiment\",\"content\"]\n",
        "\n",
        "df = pd.read_csv(path ,names = headers, encoding=\" ISO -8859-1\")\n",
        "df[\"content\"] = df[\"content\"].apply(lambda p: text_normalize(p))\n",
        "classes_lst = df['sentiment'].unique() # Danh sách tên các class trong dataset\n",
        "\n",
        "# Chia bộ dữ liệu thành 3 bộ train, val, test 8/1/1\n",
        "train_df, val_df = train_test_split(df, test_size=0.2, shuffle=True, random_state=0)\n",
        "val_df, test_df = train_test_split(val_df, test_size=0.5, shuffle=True, random_state=0)"
      ],
      "metadata": {
        "id": "KPFCkDYLpQzK"
      },
      "execution_count": null,
      "outputs": []
    },
    {
      "cell_type": "code",
      "source": [
        "Root_folderpath =\"./financial_sentiment\"\n",
        "\n",
        "if not os.path.exists(Root_folderpath):\n",
        "  os.makedirs(Root_folderpath)\n",
        "\n",
        "for folder_name in [\"train\",\"val\",\"test\"]:\n",
        "  # khai bao duong dan den folder\n",
        "  folder_path = os.path.join(Root_folderpath,folder_name)\n",
        "\n",
        "  if not os.path.exists(folder_path):\n",
        "    os.makedirs(folder_path)\n",
        "  for class_name in classes_lst:\n",
        "    class_folder_path = os.path.join(folder_path,class_name)\n",
        "    if not os.path.exists(class_folder_path):\n",
        "      os.makedirs(class_folder_path)\n",
        "\n",
        "  if folder_name == 'train':\n",
        "        df = train_df\n",
        "  elif folder_name == 'val':\n",
        "        df = val_df\n",
        "  else:\n",
        "        df = test_df\n",
        "\n",
        "  # Tạo bộ đếm số lượng sample cho từng class (dùng để đặt tên file .txt cho sample)\n",
        "  counter_dict = dict.fromkeys(classes_lst, 1)\n",
        "\n",
        "    # Tạo các data sample dưới dạng các file .txt\n",
        "  for idx, row in df.iterrows(): # Duyệt qua từng hàng trong file .csv của tập train\n",
        "      sample_sentiment = row['sentiment'] # Lấy label của sample\n",
        "      sample_content = row['content'] # Lấy nội dung văn bản của sample\n",
        "      sample_filepath = os.path.join(Root_folderpath, folder_name, sample_sentiment, f'{sample_sentiment}_{counter_dict[sample_sentiment]}.txt') # Khai báo đường dẫn lưu file .txt\n",
        "      counter_dict[sample_sentiment] += 1\n",
        "        # Tạo file .txt với nội dung là ô content trong file .csv của hàng đang xét\n",
        "      with open(sample_filepath, 'w') as f:\n",
        "          f.write(sample_content)\n"
      ],
      "metadata": {
        "id": "udL0ixWo4yVS"
      },
      "execution_count": null,
      "outputs": []
    },
    {
      "cell_type": "code",
      "source": [
        "BATCH_SIZE = 128\n",
        "MAX_SEQ_LEN = 128\n",
        "MAX_FEATURES = 5000 # vocab size\n",
        "EMBEDDING_DIMS = 64\n",
        "\n",
        "Root_folderpath= './financial_sentiment'\n",
        "\n",
        "trainset_filepath = os.path.join(Root_folderpath, 'train')\n",
        "valset_filepath = os.path.join(Root_folderpath, 'val')\n",
        "testset_filepath = os.path.join(Root_folderpath, 'test')\n",
        "\n",
        "train_ds = tf.keras.utils.text_dataset_from_directory(\n",
        "    trainset_filepath, # Đường dẫn đến bộ train\n",
        "    batch_size=BATCH_SIZE, # Cài đặt batch size\n",
        "    shuffle=True, # Bật chế độ shuffle dataset\n",
        "    seed=RANDOM_SEED # Cài đặt random seed cho các phép transform (nếu có)\n",
        ")\n",
        "\n",
        "val_ds = tf.keras.utils.text_dataset_from_directory(\n",
        "    valset_filepath, # Đường dẫn đến bộ val\n",
        "    batch_size=BATCH_SIZE, # Cài đặt batch size\n",
        "    shuffle=False, # Bật chế độ shuffle dataset\n",
        "    seed=RANDOM_SEED # Cài đặt random seed cho các phép transform (nếu có)\n",
        ")\n",
        "\n",
        "test_ds = tf.keras.utils.text_dataset_from_directory(\n",
        "    testset_filepath, # Đường dẫn đến bộ val\n",
        "    batch_size=BATCH_SIZE, # Cài đặt batch size\n",
        "    shuffle=False, # Bật chế độ shuffle dataset\n",
        "    seed=RANDOM_SEED # Cài đặt random seed cho các phép transform (nếu có)\n",
        ")"
      ],
      "metadata": {
        "colab": {
          "base_uri": "https://localhost:8080/"
        },
        "id": "LWyGiRHv-7jS",
        "outputId": "16bc8ae1-b722-4412-c328-9a6f28bec7bd"
      },
      "execution_count": null,
      "outputs": [
        {
          "output_type": "stream",
          "name": "stdout",
          "text": [
            "Found 3876 files belonging to 3 classes.\n",
            "Found 485 files belonging to 3 classes.\n",
            "Found 485 files belonging to 3 classes.\n"
          ]
        }
      ]
    },
    {
      "cell_type": "code",
      "source": [
        "AUTOTUNE = tf.data.AUTOTUNE\n",
        "\n",
        "train_ds = train_ds.cache().prefetch(buffer_size=AUTOTUNE)\n",
        "val_ds = val_ds.cache().prefetch(buffer_size=AUTOTUNE)"
      ],
      "metadata": {
        "id": "zMmIJtLHHXyC"
      },
      "execution_count": null,
      "outputs": []
    },
    {
      "cell_type": "code",
      "source": [],
      "metadata": {
        "id": "brRlNAUvAOx6"
      },
      "execution_count": null,
      "outputs": []
    },
    {
      "cell_type": "markdown",
      "source": [
        "#Xây dựng model\n"
      ],
      "metadata": {
        "id": "slD_qgMXAZ2X"
      }
    },
    {
      "cell_type": "code",
      "source": [
        "text_vectorization_layer = tf.keras.layers.TextVectorization(\n",
        "    max_tokens=MAX_FEATURES, # Kích thước bộ từ vựng\n",
        "    output_mode='int', # Giá trị token là chỉ mục của từ trong vocab\n",
        "    output_sequence_length=MAX_SEQ_LEN # Số token tối đa trong 1 vector\n",
        ")\n",
        "\n",
        "train_text = train_ds.map(lambda text, labels: text) # Gọi `content` của toàn bộ mẫu dữ liệu trong tập train\n",
        "text_vectorization_layer.adapt(train_text) # Xây dựng layer vectorization dựa trên dữ liệu tập train"
      ],
      "metadata": {
        "id": "HwMRuJvbAc8Y"
      },
      "execution_count": null,
      "outputs": []
    },
    {
      "cell_type": "code",
      "source": [
        "from google.colab import drive\n",
        "drive.mount('/content/drive')"
      ],
      "metadata": {
        "id": "80eF7v5QJxeA"
      },
      "execution_count": null,
      "outputs": []
    },
    {
      "cell_type": "code",
      "source": [
        "# Xây dựng hàm khởi tạo model\n",
        "def build_model(max_features, embedding_dims, n_classes):\n",
        "    model = tf.keras.models.Sequential([\n",
        "        # input layer(Nhan vao 1 string)\n",
        "        tf.keras.Input(shape=(1,), dtype=\"string\"),\n",
        "        text_vectorization_layer,\n",
        "\n",
        "        # embedding layer\n",
        "        tf.keras.layers.Embedding(\n",
        "        input_dim = max_features +1,\n",
        "        output_dim = embedding_dims,\n",
        "        mask_zero = True,\n",
        "        name =\"embedding_layer\"\n",
        "    ),\n",
        "\n",
        "        # Rnn_layer_1\n",
        "        tf.keras.layers.SimpleRNN(32,\n",
        "                                  return_sequences = True,\n",
        "                                  name =\"rnn_layer_1\"),\n",
        "        # Rnn_layer_2\n",
        "        tf.keras.layers.SimpleRNN(32,\n",
        "                                  return_sequences = False,\n",
        "                                  name =\"rnn_layer_2\"),\n",
        "\n",
        "        # Fully conected layer\n",
        "\n",
        "        tf.keras.layers.Dense(16,\n",
        "                              activation =\"relu\",\n",
        "                              name =\"fl_layer_1\"),\n",
        "        tf.keras.layers.Dense(3,\n",
        "                              activation=\"Softmax\",\n",
        "                              name=\"output_layer\")\n",
        "    ])\n",
        "\n",
        "\n",
        "    return model"
      ],
      "metadata": {
        "id": "KrpcdZA7Bcy_"
      },
      "execution_count": null,
      "outputs": []
    },
    {
      "cell_type": "code",
      "source": [],
      "metadata": {
        "id": "hJFfEZARExeN"
      },
      "execution_count": null,
      "outputs": []
    },
    {
      "cell_type": "markdown",
      "source": [
        "# Train model"
      ],
      "metadata": {
        "id": "fXEbSTxNEzNM"
      }
    },
    {
      "cell_type": "code",
      "source": [
        "epochs = 10\n",
        "learning_rate = 0.01\n",
        "\n",
        "model =  build_model(max_features = 5000, embedding_dims = 64, n_classes=3)\n",
        "\n",
        "model.compile(\n",
        "    optimizer = tf.keras.optimizers.Adam(learning_rate),\n",
        "    loss = tf.keras.losses.SparseCategoricalCrossentropy(),\n",
        "    metrics=[\"accuracy\"]\n",
        ")\n",
        "\n",
        "history = model.fit(\n",
        "    train_ds,\n",
        "    validation_data = val_ds,\n",
        "    epochs = 10\n",
        "\n",
        ")"
      ],
      "metadata": {
        "colab": {
          "base_uri": "https://localhost:8080/"
        },
        "id": "texjDfKeE09U",
        "outputId": "0992d942-acc4-4dfe-875e-00d5da4eb1ae"
      },
      "execution_count": null,
      "outputs": [
        {
          "output_type": "stream",
          "name": "stdout",
          "text": [
            "Epoch 1/10\n",
            "31/31 [==============================] - 8s 148ms/step - loss: 0.8998 - accuracy: 0.6037 - val_loss: 0.8672 - val_accuracy: 0.6433\n",
            "Epoch 2/10\n",
            "31/31 [==============================] - 4s 142ms/step - loss: 0.6227 - accuracy: 0.7374 - val_loss: 0.9735 - val_accuracy: 0.6082\n",
            "Epoch 3/10\n",
            "31/31 [==============================] - 4s 120ms/step - loss: 0.4328 - accuracy: 0.8189 - val_loss: 1.2907 - val_accuracy: 0.6206\n",
            "Epoch 4/10\n",
            "31/31 [==============================] - 4s 131ms/step - loss: 0.2909 - accuracy: 0.8873 - val_loss: 1.3562 - val_accuracy: 0.6062\n",
            "Epoch 5/10\n",
            "31/31 [==============================] - 5s 158ms/step - loss: 0.2066 - accuracy: 0.9241 - val_loss: 1.4565 - val_accuracy: 0.5979\n",
            "Epoch 6/10\n",
            "31/31 [==============================] - 4s 116ms/step - loss: 0.1622 - accuracy: 0.9422 - val_loss: 1.8475 - val_accuracy: 0.5505\n",
            "Epoch 7/10\n",
            "31/31 [==============================] - 4s 133ms/step - loss: 0.1781 - accuracy: 0.9321 - val_loss: 1.5771 - val_accuracy: 0.6062\n",
            "Epoch 8/10\n",
            "31/31 [==============================] - 5s 156ms/step - loss: 0.1470 - accuracy: 0.9481 - val_loss: 1.6531 - val_accuracy: 0.6247\n",
            "Epoch 9/10\n",
            "31/31 [==============================] - 4s 119ms/step - loss: 0.1060 - accuracy: 0.9618 - val_loss: 1.8595 - val_accuracy: 0.6186\n",
            "Epoch 10/10\n",
            "31/31 [==============================] - 4s 135ms/step - loss: 0.0616 - accuracy: 0.9781 - val_loss: 2.0659 - val_accuracy: 0.6041\n"
          ]
        }
      ]
    },
    {
      "cell_type": "code",
      "source": [
        "# Đánh giá mô hình trên tập test\n",
        "test_evaluation = model.evaluate(test_ds)"
      ],
      "metadata": {
        "colab": {
          "base_uri": "https://localhost:8080/"
        },
        "id": "fNt7cpIELeVl",
        "outputId": "2fd41959-ca42-47ff-cec4-275da2eb222a"
      },
      "execution_count": null,
      "outputs": [
        {
          "output_type": "stream",
          "name": "stdout",
          "text": [
            "4/4 [==============================] - 0s 34ms/step - loss: 2.0567 - accuracy: 0.5959\n"
          ]
        }
      ]
    },
    {
      "cell_type": "code",
      "source": [
        "# Đọc các kết quả huấn luyện mô hình qua từng epoch\n",
        "train_loss, train_acc = history.history['loss'], history.history['accuracy'] # Đọc thông tin loss, acc trên tập train\n",
        "val_loss, val_acc = history.history['val_loss'], history.history['val_accuracy'] # Đọc thông tin loss, acc trên tập val\n",
        "\n",
        "plt.figure(figsize=(10, 10)) # Cài đặt kích thước khung ảnh\n",
        "\n",
        "plt.subplot(2, 2, 1) # Khởi tạo khung ảnh cho training loss\n",
        "plt.xlabel('Epochs') # Hiển thị tên trục hoành là 'Epochs'\n",
        "plt.ylabel('Loss') # Hiển thị tên trục tung là 'Loss'\n",
        "plt.title('Training loss') # Hiển thị title của khung ảnh hiện tại là 'Training Loss'\n",
        "plt.plot(train_loss, color='red') # Vẽ đường giá trị loss trên tập train qua từng epoch (đường vẽ màu đỏ)\n",
        "\n",
        "plt.subplot(2, 2, 2) # Khởi tạo khung ảnh cho training acc\n",
        "plt.xlabel('Epochs') # Hiển thị tên trục hoành là 'Epochs'\n",
        "plt.ylabel('Accuracy') # Hiển thị tên trục tung là 'Accuracy'\n",
        "plt.title('Training accuracy') # Hiển thị title của khung ảnh hiện tại là 'Training accuracy'\n",
        "plt.plot(train_acc, color='orange') # Vẽ đường giá trị accuracy trên tập train qua từng epoch (đường vẽ màu cam)\n",
        "\n",
        "plt.subplot(2, 2, 3) # Khởi tạo khung ảnh cho val loss\n",
        "plt.xlabel('Epochs') # Hiển thị tên trục hoành là 'Epochs'\n",
        "plt.ylabel('Loss') # Hiển thị tên trục tung là 'Loss'\n",
        "plt.title('Validation loss') # Hiển thị title của khung ảnh hiện tại là 'Validation loss'\n",
        "plt.plot(val_loss, color='red') # Vẽ đường giá trị loss trên tập val qua từng epoch (đường vẽ màu đỏ)\n",
        "\n",
        "plt.subplot(2, 2, 4) # Khởi tạo khung ảnh cho val acc\n",
        "plt.xlabel('Epochs') # Hiển thị tên trục hoành là 'Epochs'\n",
        "plt.ylabel('Accuracy') # Hiển thị tên trục tung là 'Accuracy'\n",
        "plt.title('Validation accuracy') # Hiển thị title của khung ảnh hiện tại là 'Validation accuracy'\n",
        "plt.plot(val_acc, color='orange') # Vẽ đường giá trị accuracy trên tập val qua từng epoch (đường vẽ màu cam)\n",
        "\n",
        "plt.show() # Hiển thị 4 khung ảnh nhỏ"
      ],
      "metadata": {
        "colab": {
          "base_uri": "https://localhost:8080/",
          "height": 872
        },
        "id": "9oQJBKydLoqj",
        "outputId": "6702a3d7-4756-4e44-a34c-28d5d8fb9406"
      },
      "execution_count": null,
      "outputs": [
        {
          "output_type": "display_data",
          "data": {
            "text/plain": [
              "<Figure size 1000x1000 with 4 Axes>"
            ],
            "image/png": "[encoded data removed]"
          },
          "metadata": {}
        }
      ]
    }
  ]
}